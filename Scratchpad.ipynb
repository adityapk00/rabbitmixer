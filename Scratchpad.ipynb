{
 "cells": [
  {
   "cell_type": "code",
   "execution_count": 64,
   "metadata": {},
   "outputs": [],
   "source": [
    "import ecdsa\n",
    "import hashlib\n",
    "import base58 \n",
    "import binascii\n",
    "\n",
    "from ecdsa import SigningKey"
   ]
  },
  {
   "cell_type": "code",
   "execution_count": 65,
   "metadata": {},
   "outputs": [],
   "source": [
    "# SECP256k1 is the Bitcoin elliptic curve\n",
    "prvk1 = SigningKey.generate(curve=ecdsa.SECP256k1) \n",
    "pubk1 = prvk1.get_verifying_key()\n",
    "\n",
    "prvk2 = SigningKey.generate(curve=ecdsa.SECP256k1) \n",
    "pubk2 = prvk2.get_verifying_key()\n",
    "\n",
    "dhk1 = prvk1.privkey.secret_multiplier * pubk2.pubkey.point\n",
    "dhk2 = prvk2.privkey.secret_multiplier * pubk1.pubkey.point\n",
    "\n",
    "m = hashlib.sha256()\n",
    "m.update(dhk1.x().to_bytes(length=32, byteorder=\"big\"))\n",
    "m.update(dhk1.y().to_bytes(length=32, byteorder=\"big\"))\n",
    "shhex1 = m.hexdigest()\n",
    "\n",
    "m = hashlib.sha256()\n",
    "m.update(dhk2.x().to_bytes(length=32, byteorder=\"big\"))\n",
    "m.update(dhk2.y().to_bytes(length=32, byteorder=\"big\"))\n",
    "shhex2 = m.hexdigest()\n",
    "\n",
    "shprvk = SigningKey.from_secret_exponent(int(shhex1, 16), curve=ecdsa.SECP256k1)"
   ]
  },
  {
   "cell_type": "code",
   "execution_count": 66,
   "metadata": {},
   "outputs": [
    {
     "name": "stdout",
     "output_type": "stream",
     "text": [
      "0xd9f4553c7f53aba8ea829e2baedc4b902e1a1edf18f9ad2a2915bd7eb469feab\n",
      "5KUGwAsXMW9T7ZsjGLKEWP8EwU6J8jz3ohn7V9wwRhKLKTuKr7G\n"
     ]
    }
   ],
   "source": [
    "# Generate the bitcoin private key\n",
    "raw_bytes = binascii.unhexlify('80') + shprvk.privkey.secret_multiplier.to_bytes(32, \"big\")\n",
    "print(hex(shprvk.privkey.secret_multiplier))\n",
    "\n",
    "addr = base58.b58encode_check(raw_bytes)\n",
    "print(addr)"
   ]
  },
  {
   "cell_type": "code",
   "execution_count": 67,
   "metadata": {},
   "outputs": [
    {
     "name": "stdout",
     "output_type": "stream",
     "text": [
      "17xSEuATPmzh7mBq6vY5Ti3DAR58Usefh2\n"
     ]
    }
   ],
   "source": [
    "# Generate corresponding public key\n",
    "shpubk = shprvk.get_verifying_key()\n",
    "\n",
    "# Pack as 0x04 + x + y\n",
    "raw_bytes = binascii.unhexlify('04') + shpubk.pubkey.point.x().to_bytes(32, \"big\") + shpubk.pubkey.point.y().to_bytes(32, \"big\")\n",
    "\n",
    "# 0x00 + ripemp160(sha256(packed bytes))\n",
    "hashed =  binascii.unhexlify('00') + hashlib.new(\"ripemd160\", hashlib.sha256(raw_bytes).digest()).digest()\n",
    "\n",
    "# base58 + checksum\n",
    "addr = base58.b58encode_check(hashed)\n",
    "print(addr)"
   ]
  }
 ],
 "metadata": {
  "kernelspec": {
   "display_name": "Python [conda env:tensorflow]",
   "language": "python",
   "name": "conda-env-tensorflow-py"
  },
  "language_info": {
   "codemirror_mode": {
    "name": "ipython",
    "version": 3
   },
   "file_extension": ".py",
   "mimetype": "text/x-python",
   "name": "python",
   "nbconvert_exporter": "python",
   "pygments_lexer": "ipython3",
   "version": "3.5.4"
  }
 },
 "nbformat": 4,
 "nbformat_minor": 2
}
